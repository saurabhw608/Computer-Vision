{
 "cells": [
  {
   "cell_type": "code",
   "execution_count": 1,
   "metadata": {},
   "outputs": [],
   "source": [
    "import numpy as np\n",
    "import matplotlib.pyplot as plt\n",
    "\n",
    "from util import getData, softmax, cost, y2indicator, error_rate\n",
    "from sklearn.utils import shuffle"
   ]
  },
  {
   "cell_type": "code",
   "execution_count": 2,
   "metadata": {},
   "outputs": [
    {
     "name": "stdout",
     "output_type": "stream",
     "text": [
      "i: 0 cost: 1882.3770005942272 error: 0.807\n",
      "i: 50 cost: 1921.128197843018 error: 0.78\n",
      "i: 100 cost: 1908.2625804016736 error: 0.775\n",
      "i: 150 cost: 1898.1533549686892 error: 0.769\n",
      "i: 200 cost: 1889.6149568171065 error: 0.767\n",
      "i: 250 cost: 1882.1344404856554 error: 0.759\n",
      "i: 300 cost: 1875.448354277878 error: 0.756\n",
      "i: 350 cost: 1869.398061171477 error: 0.753\n",
      "i: 400 cost: 1863.875906953728 error: 0.752\n",
      "i: 450 cost: 1858.8028042362434 error: 0.748\n",
      "i: 500 cost: 1854.1176401656885 error: 0.743\n",
      "i: 550 cost: 1849.771610879167 error: 0.739\n",
      "i: 600 cost: 1845.7248478518827 error: 0.733\n",
      "i: 650 cost: 1841.9442324216795 error: 0.731\n",
      "i: 700 cost: 1838.401889284115 error: 0.727\n",
      "i: 750 cost: 1835.0741006541132 error: 0.724\n",
      "i: 800 cost: 1831.940498082909 error: 0.721\n",
      "i: 850 cost: 1828.9834465008307 error: 0.719\n",
      "i: 900 cost: 1826.1875661587605 error: 0.716\n",
      "i: 950 cost: 1823.5393561674214 error: 0.715\n",
      "best_validation_error: 0.715\n"
     ]
    },
    {
     "data": {
      "image/png": "[encoded data removed]",
      "text/plain": [
       "<Figure size 432x288 with 1 Axes>"
      ]
     },
     "metadata": {
      "needs_background": "light"
     },
     "output_type": "display_data"
    },
    {
     "name": "stdout",
     "output_type": "stream",
     "text": [
      "0.28600000000000003\n"
     ]
    }
   ],
   "source": [
    "class LogisticModel(object):\n",
    "    def __init__(self):\n",
    "        pass\n",
    "\n",
    "    def fit(self, X, Y, Xvalid, Yvalid, learning_rate=1e-7, reg=0., epochs=1000, show_fig=False):\n",
    "        Tvalid = y2indicator(Yvalid)\n",
    "\n",
    "        N, D = X.shape\n",
    "        K = len(set(Y))\n",
    "        T = y2indicator(Y)\n",
    "        self.W = np.random.randn(D, K) / np.sqrt(D)\n",
    "        self.b = np.zeros(K)\n",
    "\n",
    "        costs = []\n",
    "        best_validation_error = 1\n",
    "        for i in range(epochs):\n",
    "            # forward propagation and cost calculation\n",
    "            pY = self.forward(X)\n",
    "\n",
    "            # gradient descent step\n",
    "            self.W -= learning_rate*(X.T.dot(pY - T) + reg*self.W)\n",
    "            self.b -= learning_rate*((pY - T).sum(axis=0) + reg*self.b)\n",
    "\n",
    "            if i % 50 == 0:\n",
    "                pYvalid = self.forward(Xvalid)\n",
    "                c = cost(Tvalid, pYvalid)\n",
    "                costs.append(c)\n",
    "                e = error_rate(Yvalid, np.argmax(pYvalid, axis=1))\n",
    "                print(\"i:\", i, \"cost:\", c, \"error:\", e)\n",
    "                if e < best_validation_error:\n",
    "                    best_validation_error = e\n",
    "        print(\"best_validation_error:\", best_validation_error)\n",
    "\n",
    "        if show_fig:\n",
    "            plt.plot(costs)\n",
    "            plt.show()\n",
    "\n",
    "\n",
    "    def forward(self, X):\n",
    "        return softmax(X.dot(self.W) + self.b)\n",
    "\n",
    "    def predict(self, X):\n",
    "        pY = self.forward(X)\n",
    "        return np.argmax(pY, axis=1)\n",
    "\n",
    "    def score(self, X, Y):\n",
    "        prediction = self.predict(X)\n",
    "        return 1 - error_rate(Y, prediction)\n",
    "\n",
    "\n",
    "def main():\n",
    "    Xtrain, Ytrain, Xvalid, Yvalid = getData()\n",
    "    \n",
    "    model = LogisticModel()\n",
    "    model.fit(Xtrain, Ytrain, Xvalid, Yvalid, show_fig=True)\n",
    "    print(model.score(Xvalid, Yvalid))\n",
    "\n",
    "if __name__ == '__main__':\n",
    "    main()\n"
   ]
  },
  {
   "cell_type": "code",
   "execution_count": null,
   "metadata": {},
   "outputs": [],
   "source": []
  }
 ],
 "metadata": {
  "kernelspec": {
   "display_name": "Python 3",
   "language": "python",
   "name": "python3"
  },
  "language_info": {
   "codemirror_mode": {
    "name": "ipython",
    "version": 3
   },
   "file_extension": ".py",
   "mimetype": "text/x-python",
   "name": "python",
   "nbconvert_exporter": "python",
   "pygments_lexer": "ipython3",
   "version": "3.7.6"
  }
 },
 "nbformat": 4,
 "nbformat_minor": 4
}
